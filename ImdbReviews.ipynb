{
 "cells": [
  {
   "cell_type": "code",
   "execution_count": 2,
   "metadata": {},
   "outputs": [
    {
     "name": "stderr",
     "output_type": "stream",
     "text": [
      "Using TensorFlow backend.\n"
     ]
    }
   ],
   "source": [
    "#Import imdb dataset from keras library which is already preprocessed into number of words\n",
    "#Sequence of words are turned into sequence of integers stand for specific integer in the dictionary\n",
    "from keras.datasets import imdb \n",
    "import matplotlib.pyplot as plt\n",
    "import numpy as np\n",
    "from keras import models\n",
    "from keras import layers"
   ]
  },
  {
   "cell_type": "code",
   "execution_count": 3,
   "metadata": {},
   "outputs": [],
   "source": [
    "#Load first 10000 words as test data and train data\n",
    "(train_data, train_labels), (test_data, test_labels) = imdb.load_data(num_words=10000)"
   ]
  },
  {
   "cell_type": "code",
   "execution_count": 31,
   "metadata": {},
   "outputs": [
    {
     "name": "stdout",
     "output_type": "stream",
     "text": [
      "(25000,)\n"
     ]
    }
   ],
   "source": [
    "#.shape will give no of rows and columns in the data\n",
    "print(train_data.shape)"
   ]
  },
  {
   "cell_type": "code",
   "execution_count": 8,
   "metadata": {},
   "outputs": [],
   "source": [
    "word_index = imdb.get_word_index()\n",
    "reverse_word_index = dict([(value, key) for (key, value) in word_index.items()])\n",
    "decoded_review = ' '.join([reverse_word_index.get(i - 3, '?') for i in train_data[0]])\n"
   ]
  },
  {
   "cell_type": "code",
   "execution_count": null,
   "metadata": {},
   "outputs": [],
   "source": []
  },
  {
   "cell_type": "code",
   "execution_count": 6,
   "metadata": {},
   "outputs": [],
   "source": [
    "#Vectorizing the data \n",
    "def vectorize_sequences(sequences, dimension=10000):\n",
    "    results = np.zeros((len(sequences), dimension))\n",
    "    for i, sequence in enumerate(sequences):\n",
    "        results[i, sequence] = 1.\n",
    "    return results\n",
    "x_train = vectorize_sequences(train_data)\n",
    "x_test = vectorize_sequences(test_data)"
   ]
  },
  {
   "cell_type": "code",
   "execution_count": 9,
   "metadata": {},
   "outputs": [
    {
     "data": {
      "text/plain": [
       "array([0., 1., 1., ..., 0., 0., 0.])"
      ]
     },
     "execution_count": 9,
     "metadata": {},
     "output_type": "execute_result"
    }
   ],
   "source": [
    "x_train[0]"
   ]
  },
  {
   "cell_type": "code",
   "execution_count": 10,
   "metadata": {},
   "outputs": [],
   "source": [
    "y_train = np.asarray(train_labels).astype('float32')\n",
    "y_test = np.asarray(test_labels).astype('float32')"
   ]
  },
  {
   "cell_type": "code",
   "execution_count": 11,
   "metadata": {},
   "outputs": [],
   "source": [
    "#Adding layers to the deep neural network \n",
    "model = models.Sequential()\n",
    "model.add(layers.Dense(16, activation='relu', input_shape=(10000,)))\n",
    "model.add(layers.Dense(16, activation='relu'))\n",
    "model.add(layers.Dense(1, activation='sigmoid'))"
   ]
  },
  {
   "cell_type": "code",
   "execution_count": null,
   "metadata": {},
   "outputs": [],
   "source": [
    "'''from keras import optimizers\n",
    "model.compile(optimizer=optimizers.RMSprop(lr=0.001),\n",
    "loss='binary_crossentropy',\n",
    "metrics=['accuracy'])\n",
    "\n",
    "from keras import losses\n",
    "from keras import metrics\n",
    "model.compile(optimizer=optimizers.RMSprop(lr=0.001),\n",
    "loss=losses.binary_crossentropy,\n",
    "metrics=[metrics.binary_accuracy])'''"
   ]
  },
  {
   "cell_type": "code",
   "execution_count": 12,
   "metadata": {},
   "outputs": [],
   "source": [
    "x_val = x_train[:10000]\n",
    "partial_x_train = x_train[10000:]"
   ]
  },
  {
   "cell_type": "code",
   "execution_count": 13,
   "metadata": {},
   "outputs": [],
   "source": [
    "y_val = y_train[:10000]\n",
    "partial_y_train = y_train[10000:]"
   ]
  },
  {
   "cell_type": "code",
   "execution_count": 14,
   "metadata": {},
   "outputs": [
    {
     "data": {
      "text/plain": [
       "(15000, 10000)"
      ]
     },
     "execution_count": 14,
     "metadata": {},
     "output_type": "execute_result"
    }
   ],
   "source": [
    "partial_x_train.shape"
   ]
  },
  {
   "cell_type": "code",
   "execution_count": 15,
   "metadata": {},
   "outputs": [
    {
     "name": "stdout",
     "output_type": "stream",
     "text": [
      "Train on 15000 samples, validate on 10000 samples\n",
      "Epoch 1/20\n",
      "15000/15000 [==============================] - 8s 509us/step - loss: 0.5048 - accuracy: 0.7769 - val_loss: 0.3907 - val_accuracy: 0.8541\n",
      "Epoch 2/20\n",
      "15000/15000 [==============================] - 4s 240us/step - loss: 0.2978 - accuracy: 0.9045 - val_loss: 0.3067 - val_accuracy: 0.8852\n",
      "Epoch 3/20\n",
      "15000/15000 [==============================] - 4s 253us/step - loss: 0.2179 - accuracy: 0.9294 - val_loss: 0.2839 - val_accuracy: 0.8871\n",
      "Epoch 4/20\n",
      "15000/15000 [==============================] - 4s 259us/step - loss: 0.1716 - accuracy: 0.9443 - val_loss: 0.2998 - val_accuracy: 0.8794\n",
      "Epoch 5/20\n",
      "15000/15000 [==============================] - 4s 248us/step - loss: 0.1389 - accuracy: 0.9563 - val_loss: 0.3212 - val_accuracy: 0.8736\n",
      "Epoch 6/20\n",
      "15000/15000 [==============================] - 4s 271us/step - loss: 0.1154 - accuracy: 0.9649 - val_loss: 0.2977 - val_accuracy: 0.8869\n",
      "Epoch 7/20\n",
      "15000/15000 [==============================] - 4s 261us/step - loss: 0.0921 - accuracy: 0.9738 - val_loss: 0.3173 - val_accuracy: 0.8811\n",
      "Epoch 8/20\n",
      "15000/15000 [==============================] - 4s 260us/step - loss: 0.0766 - accuracy: 0.9784 - val_loss: 0.3697 - val_accuracy: 0.8744\n",
      "Epoch 9/20\n",
      "15000/15000 [==============================] - 4s 259us/step - loss: 0.0634 - accuracy: 0.9824 - val_loss: 0.3599 - val_accuracy: 0.8804\n",
      "Epoch 10/20\n",
      "15000/15000 [==============================] - 4s 258us/step - loss: 0.0469 - accuracy: 0.9898 - val_loss: 0.4351 - val_accuracy: 0.8656\n",
      "Epoch 11/20\n",
      "15000/15000 [==============================] - 4s 260us/step - loss: 0.0430 - accuracy: 0.9888 - val_loss: 0.4115 - val_accuracy: 0.8767\n",
      "Epoch 12/20\n",
      "15000/15000 [==============================] - 4s 247us/step - loss: 0.0313 - accuracy: 0.9930 - val_loss: 0.4680 - val_accuracy: 0.8673\n",
      "Epoch 13/20\n",
      "15000/15000 [==============================] - 4s 258us/step - loss: 0.0200 - accuracy: 0.9979 - val_loss: 0.5678 - val_accuracy: 0.8550\n",
      "Epoch 14/20\n",
      "15000/15000 [==============================] - 4s 256us/step - loss: 0.0218 - accuracy: 0.9961 - val_loss: 0.4991 - val_accuracy: 0.8718\n",
      "Epoch 15/20\n",
      "15000/15000 [==============================] - 4s 255us/step - loss: 0.0151 - accuracy: 0.9977 - val_loss: 0.5627 - val_accuracy: 0.8613\n",
      "Epoch 16/20\n",
      "15000/15000 [==============================] - 4s 262us/step - loss: 0.0092 - accuracy: 0.9995 - val_loss: 0.5779 - val_accuracy: 0.8653\n",
      "Epoch 17/20\n",
      "15000/15000 [==============================] - 4s 248us/step - loss: 0.0107 - accuracy: 0.9982 - val_loss: 0.5901 - val_accuracy: 0.8708\n",
      "Epoch 18/20\n",
      "15000/15000 [==============================] - 4s 247us/step - loss: 0.0045 - accuracy: 0.9999 - val_loss: 0.6196 - val_accuracy: 0.8688\n",
      "Epoch 19/20\n",
      "15000/15000 [==============================] - 4s 244us/step - loss: 0.0092 - accuracy: 0.9979 - val_loss: 0.6506 - val_accuracy: 0.8695\n",
      "Epoch 20/20\n",
      "15000/15000 [==============================] - 4s 258us/step - loss: 0.0024 - accuracy: 0.9999 - val_loss: 0.6773 - val_accuracy: 0.8685\n"
     ]
    }
   ],
   "source": [
    "model.compile(optimizer='rmsprop', loss='binary_crossentropy', metrics=['accuracy'])\n",
    "history = model.fit(partial_x_train, partial_y_train, epochs=20, batch_size=512, validation_data=(x_val, y_val))"
   ]
  },
  {
   "cell_type": "code",
   "execution_count": 44,
   "metadata": {},
   "outputs": [],
   "source": []
  },
  {
   "cell_type": "code",
   "execution_count": 45,
   "metadata": {},
   "outputs": [
    {
     "data": {
      "text/plain": [
       "dict_keys(['val_loss', 'val_accuracy', 'loss', 'accuracy'])"
      ]
     },
     "execution_count": 45,
     "metadata": {},
     "output_type": "execute_result"
    }
   ],
   "source": [
    "history_dict = history.history\n",
    "history_dict.keys()"
   ]
  },
  {
   "cell_type": "code",
   "execution_count": 48,
   "metadata": {},
   "outputs": [
    {
     "data": {
      "image/png": "[encoded data removed]",
      "text/plain": [
       "<Figure size 432x288 with 1 Axes>"
      ]
     },
     "metadata": {
      "needs_background": "light"
     },
     "output_type": "display_data"
    }
   ],
   "source": [
    "history_dict = history.history\n",
    "loss_values = history_dict['loss']\n",
    "val_loss_values = history_dict['val_loss']\n",
    "accuracy = history_dict['accuracy']\n",
    "epochs = range(1, len(accuracy) + 1)\n",
    "plt.plot(epochs, loss_values, 'bo', label='Training loss')\n",
    "plt.plot(epochs, val_loss_values, 'b', label='Validation loss')\n",
    "plt.title('Training and validation loss')\n",
    "plt.xlabel('Epochs')\n",
    "plt.ylabel('Loss')\n",
    "plt.legend()\n",
    "plt.show()"
   ]
  },
  {
   "cell_type": "code",
   "execution_count": 51,
   "metadata": {},
   "outputs": [
    {
     "data": {
      "image/png": "[encoded data removed]",
      "text/plain": [
       "<Figure size 432x288 with 1 Axes>"
      ]
     },
     "metadata": {
      "needs_background": "light"
     },
     "output_type": "display_data"
    }
   ],
   "source": [
    "plt.clf()#Clear the figure\n",
    "acc_values = history_dict['accuracy']\n",
    "val_acc_values = history_dict['val_accuracy']\n",
    "plt.plot(epochs, acc_values, 'bo', label='Training acc')\n",
    "plt.plot(epochs, val_acc_values, 'b', label='Validation acc')\n",
    "plt.title('Training and validation accuracy')\n",
    "plt.xlabel('Epochs')\n",
    "plt.ylabel('Loss')\n",
    "plt.legend()\n",
    "plt.show()"
   ]
  },
  {
   "cell_type": "code",
   "execution_count": 52,
   "metadata": {},
   "outputs": [
    {
     "name": "stdout",
     "output_type": "stream",
     "text": [
      "Epoch 1/4\n",
      "25000/25000 [==============================] - 5s 184us/step - loss: 0.4488 - accuracy: 0.82060s - loss: 0.4731 \n",
      "Epoch 2/4\n",
      "25000/25000 [==============================] - 4s 159us/step - loss: 0.2588 - accuracy: 0.9072\n",
      "Epoch 3/4\n",
      "25000/25000 [==============================] - 4s 151us/step - loss: 0.2000 - accuracy: 0.9292\n",
      "Epoch 4/4\n",
      "25000/25000 [==============================] - 4s 153us/step - loss: 0.1679 - accuracy: 0.9412\n",
      "25000/25000 [==============================] - 7s 288us/step\n"
     ]
    },
    {
     "data": {
      "text/plain": [
       "array([[0.14771809],\n",
       "       [0.9999397 ],\n",
       "       [0.6584341 ],\n",
       "       ...,\n",
       "       [0.08652835],\n",
       "       [0.05060523],\n",
       "       [0.6334437 ]], dtype=float32)"
      ]
     },
     "execution_count": 52,
     "metadata": {},
     "output_type": "execute_result"
    }
   ],
   "source": [
    "#Retrain the model from scratch\n",
    "model = models.Sequential()\n",
    "model.add(layers.Dense(16, activation='relu', input_shape=(10000,)))\n",
    "model.add(layers.Dense(16, activation='relu'))\n",
    "model.add(layers.Dense(1, activation='sigmoid'))\n",
    "model.compile(optimizer='rmsprop', loss='binary_crossentropy', metrics=['accuracy'])\n",
    "model.fit(x_train, y_train, epochs=4, batch_size=512)\n",
    "results = model.evaluate(x_test, y_test)\n",
    "model.predict(x_test)"
   ]
  },
  {
   "cell_type": "code",
   "execution_count": null,
   "metadata": {},
   "outputs": [],
   "source": []
  }
 ],
 "metadata": {
  "kernelspec": {
   "display_name": "Python 3",
   "language": "python",
   "name": "python3"
  },
  "language_info": {
   "codemirror_mode": {
    "name": "ipython",
    "version": 3
   },
   "file_extension": ".py",
   "mimetype": "text/x-python",
   "name": "python",
   "nbconvert_exporter": "python",
   "pygments_lexer": "ipython3",
   "version": "3.7.5"
  }
 },
 "nbformat": 4,
 "nbformat_minor": 4
}
